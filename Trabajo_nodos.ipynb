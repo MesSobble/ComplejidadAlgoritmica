{
  "nbformat": 4,
  "nbformat_minor": 0,
  "metadata": {
    "colab": {
      "provenance": []
    },
    "kernelspec": {
      "name": "python3",
      "display_name": "Python 3"
    },
    "language_info": {
      "name": "python"
    }
  },
  "cells": [
    {
      "cell_type": "markdown",
      "source": [
        "# **IGNORAR LO DE ABAJO**"
      ],
      "metadata": {
        "id": "b7HqvElI3Mi7"
      }
    },
    {
      "cell_type": "code",
      "source": [
        "# I G N O R A R. Esto solo era de testeo\n",
        "import csv\n",
        "\n",
        "def DictionaryToMatrix(Dict: dict):\n",
        "  row = []\n",
        "  col = []\n",
        "  #matrix = np.zeros()\n",
        "  for estacion, paradas in Dict.items():\n",
        "    row.append(estacion)\n",
        "    for parada in paradas:\n",
        "      repetido = False\n",
        "      for i in col:\n",
        "        if (i == parada):\n",
        "          repetido = True\n",
        "      if (repetido == False):\n",
        "        col.append(parada)\n",
        "  row_n = len(row) #+ 1\n",
        "  col_n = len(col) #+ 1\n",
        "  matrix = np.zeros((row_n, col_n))\n",
        "  i = 0\n",
        "  j = 0\n",
        "  for estacion, paradas in Dict.items():\n",
        "    #matrix[i + 1, 0] = row [i]\n",
        "    j = 0\n",
        "    for c in col:\n",
        "      #matrix[0, j + 1] = col [j]\n",
        "      for parada in paradas:\n",
        "        if (c == parada):\n",
        "          matrix[i, j] = 1\n",
        "      else:\n",
        "        j = j + 1\n",
        "\n",
        "    i = i + 1\n",
        "  #print(row)\n",
        "  #print(col)\n",
        "  #print(matrix)\n",
        "  return matrix\n",
        "\n",
        "\n",
        "\n",
        "\n",
        "matrix = DictionaryToMatrix(Estaciones_Buses)\n",
        "print(matrix)\n",
        "MatrixToCSV(matrix)"
      ],
      "metadata": {
        "colab": {
          "base_uri": "https://localhost:8080/"
        },
        "id": "bWYMO30tu5SN",
        "outputId": "6a4be171-2ea4-4317-d9a6-43d93cc4efea"
      },
      "execution_count": 3,
      "outputs": [
        {
          "output_type": "stream",
          "name": "stdout",
          "text": [
            "[[1. 1. 1. 0.]\n",
            " [0. 1. 1. 1.]\n",
            " [1. 1. 0. 1.]\n",
            " [1. 0. 1. 1.]]\n",
            "     0    1    2    3\n",
            "0  1.0  1.0  1.0  0.0\n",
            "1  0.0  1.0  1.0  1.0\n",
            "2  1.0  1.0  0.0  1.0\n",
            "3  1.0  0.0  1.0  1.0\n"
          ]
        }
      ]
    },
    {
      "cell_type": "markdown",
      "source": [
        "# **IGNORAR LO DE ARRIBA**"
      ],
      "metadata": {
        "id": "meNz7M7G3RAd"
      }
    },
    {
      "cell_type": "code",
      "execution_count": 10,
      "metadata": {
        "id": "0nJ1_c__sKqp"
      },
      "outputs": [],
      "source": [
        "# Importamos lo necesario para generar las listas\n",
        "import json\n",
        "import pandas as pd\n",
        "import numpy as np\n",
        "import random\n",
        "from os.path import exists"
      ]
    },
    {
      "cell_type": "code",
      "source": [
        "#Aquí estarán los diccionarios\n",
        "#Este es de prueba, era para ver como funcionaban los diccionarios.\n",
        "Estaciones_Buses = {\n",
        "    '1': ['1', '2', '3'],\n",
        "    '2': ['2', '3', '4'],\n",
        "    '3': ['1', '2', '4'],\n",
        "    '4': ['1', '3', '4'],\n",
        "}\n",
        "#Estaciones numeradas del 1 al 4 (por ahora)\n",
        "Estaciones = {}\n",
        "#Expresos numerados del 1 al 4 (por ahora)\n",
        "Buses = {}"
      ],
      "metadata": {
        "id": "v1uwbStBsQsK"
      },
      "execution_count": 5,
      "outputs": []
    },
    {
      "cell_type": "code",
      "source": [
        "#Definimos una función que convierte una matriz a CSV (guardar la información)\n",
        "def MatrixToCSV(matrix):\n",
        "  #convertimos la matriz a tabla\n",
        "  tabla = pd.DataFrame(matrix)\n",
        "  #mostramos la tabla (no necesario)\n",
        "  #print(tabla)\n",
        "  #convertimos la tabla en un csv, no se puede hacer directamente desde la matriz\n",
        "  tabla.to_csv('Estaciones_Buses.csv', index=False)\n",
        "\n",
        "#Crea los valores aleatoreos\n",
        "def randomMatrix(nrow: int, ncol: int):\n",
        "  #matriz vacía\n",
        "  matrix = np.zeros((nrow, ncol))\n",
        "  #los índices\n",
        "  i = 0\n",
        "  j = 0\n",
        "  #checkeamos el elemento de las filas\n",
        "  while i < nrow:\n",
        "    #reseteamos el contador de columnas\n",
        "    j = 0\n",
        "    #checkeamos el elemento de las columnas\n",
        "    while j < ncol:\n",
        "      #generamos un valor aleatoreo entre o y 1. Lo asignamos a la matriz\n",
        "      n = random.randint(0,1)\n",
        "      matrix[i,j] = n\n",
        "      #avanzamos a la siguiente columna\n",
        "      j = j + 1\n",
        "    #avanzamos a la siguiente fila\n",
        "    i = i + 1\n",
        "  #convertimos la matriz a un CSV, para no tener que hacer esto cada vez que iniciamos el programa\n",
        "  MatrixToCSV(matrix)\n",
        "  return matrix\n",
        "\n",
        "#lee el archivo\n",
        "def readCSV():\n",
        "  #verificamos si el archivo ya ha sido creado de antemano\n",
        "  if exists('Estaciones_Buses.csv'):\n",
        "    #leemos el archivo y lo convertimos a matriz\n",
        "    matrix = np.loadtxt(open(\"Estaciones_Buses.csv\", \"rb\"), delimiter=\",\", skiprows=1)\n",
        "    return matrix\n",
        "  #creamos el archivo en caso contrario\n",
        "  else:\n",
        "    return randomMatrix(4, 4)\n",
        "\n",
        "#obtenemos las estaciones\n",
        "def getEstaciones(matrix, nrow: int, ncol: int):\n",
        "  #label de la estación\n",
        "  label = ''\n",
        "  #buses que pasan\n",
        "  arr = []\n",
        "  i = 0\n",
        "  j = 0\n",
        "  #verificamos filas\n",
        "  while i < nrow:\n",
        "    j = 0\n",
        "    #el label de estación de esta fila es número \"i + 1\"\n",
        "    label = f'{i + 1}'\n",
        "    #reiniciamos en blanco los buses que llegan\n",
        "    arr = []\n",
        "    #verificamos columnas\n",
        "    while j < ncol:\n",
        "      #si el valor en tal columna y fila es uno (verdadero), implica que ese es un bus que llega\n",
        "      if matrix[i][j] == 1:\n",
        "        #añadimos el bus a la estación\n",
        "        arr.append(f'{j + 1}')\n",
        "      #avanzamos en columnas\n",
        "      j = j + 1\n",
        "    #avanzamos en filas\n",
        "    i = i + 1\n",
        "    Estaciones[label] = arr\n",
        "  #print(Estaciones)\n",
        "\n",
        "#obtenemos las estaciones\n",
        "def getBuses(matrix, nrow: int, ncol: int):\n",
        "  #label del buss\n",
        "  label = ''\n",
        "  #estaciones de llegada\n",
        "  arr = []\n",
        "  i = 0\n",
        "  j = 0\n",
        "  #verificamos columnas\n",
        "  while j < ncol:\n",
        "    i = 0\n",
        "    #el label del bus de esta columna es expreso número \"j + 1\"\n",
        "    label = f'{j + 1}'\n",
        "    #reiniciamos en blanco las estaciones de destino\n",
        "    arr = []\n",
        "    #verificamos filas\n",
        "    while i < nrow:\n",
        "      #si el valor en tal fila y columna es uno (verdadero), implica que esa es una parada\n",
        "      if matrix[i][j] == 1:\n",
        "        #añadimos la parada al bus\n",
        "        arr.append(f'{i + 1}')\n",
        "      #avanzamos en filas\n",
        "      i = i + 1\n",
        "    #avanzamos en columnas\n",
        "    j = j + 1\n",
        "    Buses[label] = arr\n",
        "  #print(Buses)\n",
        "\n",
        "getEstaciones(readCSV(), 4, 4)\n",
        "getBuses(readCSV(), 4, 4)"
      ],
      "metadata": {
        "id": "3dFpzhKZ_iA8",
        "colab": {
          "base_uri": "https://localhost:8080/"
        },
        "outputId": "19221194-b422-4732-b2ec-1cc443bd9af2"
      },
      "execution_count": 28,
      "outputs": [
        {
          "output_type": "stream",
          "name": "stdout",
          "text": [
            "{'1': ['4'], '2': ['1', '2', '3'], '3': ['2', '3'], '4': ['3', '4']}\n",
            "{'1': ['2'], '2': ['2', '3'], '3': ['2', '3', '4'], '4': ['1', '4']}\n"
          ]
        }
      ]
    }
  ]
}