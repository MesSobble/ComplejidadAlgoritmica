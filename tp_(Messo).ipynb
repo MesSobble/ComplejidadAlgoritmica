{
  "nbformat": 4,
  "nbformat_minor": 0,
  "metadata": {
    "colab": {
      "provenance": []
    },
    "kernelspec": {
      "name": "python3",
      "display_name": "Python 3"
    },
    "language_info": {
      "name": "python"
    }
  },
  "cells": [
    {
      "cell_type": "code",
      "source": [
        "from collections import deque\n",
        "\n",
        "estaciones = {\n",
        "    'Naranjal': ['Expreso2', 'Expreso3', 'Expreso4', 'Expreso5', 'SX', 'SXN', 'A', 'B', 'D'],\n",
        "    'Izaguirre': ['A', 'B', 'D', 'Expreso4', 'Expreso6', 'Expreso8'],\n",
        "    'Pacifico': ['A', 'B', 'D'],\n",
        "    'Independencia': ['A', 'B', 'D', 'Expreso5', 'Expreso6', 'Expreso8'],\n",
        "    'Los Jasmines': ['A', 'B', 'D'],\n",
        "    'Tomas Valle': ['A', 'B', 'D', 'Expreso4', 'Expreso5', 'Expreso7', 'Expreso8'],\n",
        "    'El Milagro': ['A', 'B', 'D'],\n",
        "    'Honorio Delgado': ['A', 'B', 'D'],\n",
        "    'Uni': ['A', 'B', 'D', 'Expreso2', 'Expreso4', 'Expreso5', 'Expreso8', 'Expreso9'],\n",
        "    'Parque del Trabajo': ['A', 'B', 'D'],\n",
        "    'Caqueta': ['A', 'B', 'D', 'Expreso4', 'Expreso5', 'Expreso8', 'Expreso9'],\n",
        "    'Dos de Mayo': ['B', 'D', 'Expreso4'],\n",
        "    'Quilca': ['A', 'B', 'D'],\n",
        "    'España': ['A', 'B', 'D', 'Expreso4', 'Expreso5', 'Expreso8'],\n",
        "    'Ramon Castilla':['A', 'C'],\n",
        "    'Tacna':['A', 'C'],\n",
        "    'Jiron de la Union':['A', 'C'],\n",
        "    'Colmena':['A', 'C'],\n",
        "    'Central': ['A', 'B', 'C', 'D', 'Expreso1', 'Expreso4', 'Expreso5', 'Expreso6', 'Expreso7', 'Expreso8', 'SXN'],\n",
        "    'Estadio Nacional': ['B', 'C', 'Expreso1'],\n",
        "    'Mexico': ['B', 'C'],\n",
        "    'Canada': ['B', 'C', 'Expreso2', 'Expreso5', 'Expreso9'],\n",
        "    'Javier Prado': ['B', 'C', 'Expreso1', 'Expreso2', 'Expreso4', 'Expreso5', 'Expreso6', 'Expreso7', 'Expreso8'],\n",
        "    'Canaval Moreyra': ['B', 'C', 'Expreso1', 'Expreso4', 'Expreso5', 'Expreso6', 'Expreso7', 'Expreso8', 'Expreso8', 'SX'],\n",
        "    'Aramburu': ['B', 'C', 'SX'],\n",
        "    'Domingo Orue': ['B', 'C'],\n",
        "    'Angamos': ['B', 'C', 'Expreso1', 'Expreso3', 'Expreso4', 'Expreso5', 'Expreso6', 'Expreso7', 'Expreso8', 'Expreso9'],\n",
        "    'Ricardo Palma': ['B', 'C', 'Expreso5'],\n",
        "    'Benavides': ['B', 'C', 'Expreso3', 'Expreso6', 'Expreso8', 'Expreso9'],\n",
        "    '28 de Julio': ['B', 'C', 'Expreso1'],\n",
        "    'Plaza de Flores': ['B', 'C', 'Expreso4', 'Expreso5', 'Expreso8'],\n",
        "    'Balta': ['B', 'C', 'Expreso1'],\n",
        "    'Bulevar': ['B', 'C', 'Expreso1'],\n",
        "    'Estadio Union': ['B', 'C', 'Expreso1'],\n",
        "    'Escuela Militar': ['B', 'C', 'Expreso1'],\n",
        "    'Teran': ['B', 'C', 'Expreso1'],\n",
        "    'Rosario de Villa': ['B', 'C', 'Expreso1'],\n",
        "    'Matellini': ['B', 'C', 'Expreso1']\n",
        "}\n",
        "buses = {\n",
        "    'Expreso1': ['Central', 'Estadio Nacional', 'Javier Prado', 'Canaval Moreyra', 'Angamos', '28 de Julio', 'Balta', 'Bulevar', 'Estadio Union', 'Escuela Militar', 'Teran', 'Rosario de Villa', 'Matellini'],\n",
        "    'Expreso2': ['Naranjal', 'Canada', 'Javier Prado', 'Ricardo Palma', '28 de Julio'],\n",
        "    'Expreso3': ['Naranjal', 'Angamos', 'Benavides'],\n",
        "    'Expreso4': ['Naranjal', 'Izaguirre', 'Tomas Valle', 'Uni', 'Caqueta', 'Dos de Mayo', 'España', 'Central', 'Javier Prado', 'Canaval Moreyra', 'Angamos', 'Plaza de Flores'],\n",
        "    'Expreso5': ['Naranjal', 'Independencia', 'Tomas Valle', 'Uni', 'España', 'Central', 'Canada', 'Javier Prado', 'Canaval Moreyra', 'Angamos', 'Ricardo Palma', 'Plaza de Flores'],\n",
        "    'Expreso6': ['Izaguirre', 'Independencia', 'Central', 'Javier Prado', 'Canaval Moreyra', 'Angamos', 'Benavides'],\n",
        "    'Expreso7': ['Tomas Valle', 'Central', 'Javier Prado', 'Canaval Moreyra', 'Angamos'],\n",
        "    'Expreso8': ['Izaguirre', 'Independencia', 'Tomas valle', 'Uni', 'Caqueta', 'España', 'Central', 'Javier Prado', 'Canaval Moreyra', 'Angamos', 'Benavides', 'Plaza de Flores'],\n",
        "    'Expreso9': ['Uni', 'Caqueta', 'Canada', 'Canaval Moreyra', 'Angamos', 'Benavides'],\n",
        "    'SX': ['Naranjal', 'Canaval Moreyra', 'Aramburu'],\n",
        "    'SXN': ['Naranjal', 'Central'],\n",
        "    'A': ['Naranjal', 'Izaguirre', 'Pacifico', 'Independencia','Los Jasmines', 'Tomas Valle', 'El Milagro', 'Honorio Delgado', 'Uni', 'Parque del Trabajo', 'Caqueta', 'Ramon Castilla', 'Tacna', 'Jiron de la Union', 'Colmena', 'Central'],\n",
        "    'B': ['Naranjal', 'Izaguirre', 'Pacifico', 'Independencia','Los Jasmines', 'Tomas Valle', 'El Milagro', 'Honorio Delgado', 'Uni', 'Parque del Trabajo', 'Caqueta', 'Dos de Mayo', 'Quilca', 'España', 'Central', 'Estadio Nacional',\n",
        "         'Mexico', 'Canada', 'Javier Prado', 'Canaval Moreyra', 'Aramburu', 'Domingo Orue', 'Angamos', 'Ricardo Palma', 'Benavides', '28 de Julio', 'Plaza de Flores', 'Balta', 'Bulevar', 'Estadio Union', 'Escuela Militar', 'Teran', 'Rosario de Villa', 'Matellini'],\n",
        "    'C': ['Ramon Castilla', 'Tacna', 'Jiron de la Union', 'Colmena', 'Central', 'Estadio Nacional', 'Javier Prado', 'Canaval Moreyra', 'Angamos', '28 de Julio', 'Balta', 'Bulevar', 'Estadio Union', 'Escuela Militar', 'Teran', 'Rosario de Villa', 'Matellini'],\n",
        "    'D': ['Naranjal', 'Izaguirre', 'Pacifico', 'Independencia','Los Jasmines', 'Tomas Valle', 'El Milagro', 'Honorio Delgado', 'Uni', 'Parque del Trabajo', 'Caqueta', 'Dos de Mayo', 'Quilca', 'España', 'Central']\n",
        "}\n",
        "\n",
        "def encontrar_expreso(origen, destino):\n",
        "    visitados = set()\n",
        "    cola = deque([(origen, [])])  # Cola de tuplas (estación, ruta)\n",
        "\n",
        "    while cola:\n",
        "        estacion_actual, ruta_actual = cola.popleft()\n",
        "        visitados.add(estacion_actual)\n",
        "\n",
        "        if estacion_actual == destino:\n",
        "            return ruta_actual  # Devolvemos la ruta hasta el destino\n",
        "\n",
        "        for expreso, paradas in buses.items():\n",
        "            if estacion_actual in paradas and expreso not in ruta_actual:\n",
        "                for siguiente_estacion in paradas:\n",
        "                    if siguiente_estacion not in visitados:\n",
        "                        nueva_ruta = ruta_actual + [expreso]\n",
        "                        cola.append((siguiente_estacion, nueva_ruta))\n",
        "\n",
        "    return None  # No se encontró una ruta\n",
        "\n",
        "origen = input(\"Ingrese la estación de origen: \")\n",
        "destino = input(\"Ingrese la estación de destino: \")\n",
        "ruta_expreso = encontrar_expreso(origen, destino)\n",
        "\n",
        "if ruta_expreso:\n",
        "    print(f\"Para ir desde {origen} hasta {destino}, puedes tomar el siguiente expreso:\")\n",
        "    print(ruta_expreso[0])  # El primer elemento de la ruta es el expreso\n",
        "else:\n",
        "    print(f\"No se encontró una ruta desde {origen} hasta {destino}.\")"
      ],
      "metadata": {
        "colab": {
          "base_uri": "https://localhost:8080/"
        },
        "id": "Z6zDEHyA11cB",
        "outputId": "f4966763-7d91-44e6-b190-b77f36dd5a22"
      },
      "execution_count": null,
      "outputs": [
        {
          "output_type": "stream",
          "name": "stdout",
          "text": [
            "Ingrese la estación de origen: Naranjal\n",
            "Ingrese la estación de destino: Central\n",
            "Para ir desde Naranjal hasta Central, puedes tomar el siguiente expreso:\n",
            "Expreso4\n"
          ]
        }
      ]
    }
  ]
}